{
  "nbformat": 4,
  "nbformat_minor": 0,
  "metadata": {
    "colab": {
      "provenance": [],
      "authorship_tag": "ABX9TyPUeMreTzsMA897HBqHohEY",
      "include_colab_link": true
    },
    "kernelspec": {
      "name": "python3",
      "display_name": "Python 3"
    },
    "language_info": {
      "name": "python"
    }
  },
  "cells": [
    {
      "cell_type": "markdown",
      "metadata": {
        "id": "view-in-github",
        "colab_type": "text"
      },
      "source": [
        "<a href=\"https://colab.research.google.com/github/sebastianbenitezW/Xanadu-Pennylane/blob/main/Hackathon_QuantumForce.ipynb\" target=\"_parent\"><img src=\"https://colab.research.google.com/assets/colab-badge.svg\" alt=\"Open In Colab\"/></a>"
      ]
    },
    {
      "cell_type": "markdown",
      "source": [
        "# **<**  **QuantumForce** | **Qiskit Fall Fest** | **Hackathon** **>**"
      ],
      "metadata": {
        "id": "d7xu_sb_1e6K"
      }
    },
    {
      "cell_type": "markdown",
      "source": [
        "---"
      ],
      "metadata": {
        "id": "DkbZp7tR3tk-"
      }
    },
    {
      "cell_type": "markdown",
      "source": [
        "For this challenge we provided a variational quantum circuit in PennyLane that depends on a set of trainable parameters. The circuit produces a single number as the expectation value of a fixed measurement.\n",
        "\n",
        "The minimum expectation value of this circuit can be produced by optimizing its parameters. This leads to converting the circuit into a QNode. It was coded using one of the PennyLane optimizers called AdamOptimizer."
      ],
      "metadata": {
        "id": "qK47L0QJ1XUK"
      }
    },
    {
      "cell_type": "markdown",
      "source": [
        "---"
      ],
      "metadata": {
        "id": "n_SQ7XiP4Cg_"
      }
    },
    {
      "cell_type": "markdown",
      "source": [
        "**Members:**\n",
        "\n",
        "\n",
        "*   Danesh Morales Hashemi (bobbybomb#3873)\n",
        "*   Alejandro Sebastián Benítez Rodríguez (sebas_ben135#8087)\n",
        "*   José Felipe De León (josdelen#4499)\n",
        "*   David Rivera Cardenas\n",
        "*   Marc Edson Urcia Soto\n",
        "\n",
        "\n",
        "\n",
        "\n",
        "\n",
        "\n",
        "\n",
        "---"
      ],
      "metadata": {
        "id": "FxMwTMxQ4BE4"
      }
    },
    {
      "cell_type": "code",
      "execution_count": null,
      "metadata": {
        "id": "5KSuWRST1V62"
      },
      "outputs": [],
      "source": [
        "import pennylane as qml\n",
        "from pennylane import numpy as np\n",
        "\n",
        "WIRES = 2\n",
        "LAYERS = 5\n",
        "NUM_PARAMETERS = LAYERS * WIRES * 3"
      ]
    },
    {
      "cell_type": "code",
      "source": [
        "def variational_circuit(params,hamiltonian):\n",
        "    \"\"\"\n",
        "    This is a template variational quantum circuit containing a fixed layout of gates with variable\n",
        "    parameters. To be used as a QNode, it must either be wrapped with the @qml.qnode decorator or\n",
        "    converted using the qml.QNode function.\n",
        "\n",
        "    The output of this circuit is the expectation value of a Hamiltonian, somehow encoded in\n",
        "    the hamiltonian argument\n",
        "\n",
        "    Args:\n",
        "        - params (np.ndarray): An array of optimizable parameters of shape (30,)\n",
        "        - hamiltonian (np.ndarray): An array of real parameters encoding the Hamiltonian\n",
        "        whose expectation value is returned.\n",
        "\n",
        "    Returns:\n",
        "        (float): The expectation value of the Hamiltonian\n",
        "    \"\"\"\n",
        "    parameters = params.reshape((LAYERS, WIRES, 3))\n",
        "    qml.templates.StronglyEntanglingLayers(parameters, wires=range(WIRES))\n",
        "    return qml.expval(qml.Hermitian(hamiltonian, wires = [0,1]))"
      ],
      "metadata": {
        "id": "0gGX7M8G2Yeu"
      },
      "execution_count": null,
      "outputs": []
    },
    {
      "cell_type": "code",
      "source": [
        "def optimize_circuit(hamiltonian):\n",
        "    \"\"\"Minimize the variational circuit and return its minimum value.\n",
        "    You should create a device and convert the variational_circuit function\n",
        "    into an executable QNode.\n",
        "    Next, you should minimize the variational circuit using gradient-based\n",
        "    optimization to update the input params.\n",
        "    Return the optimized value of the QNode as a single floating-point number.\n",
        "\n",
        "    Args:\n",
        "        - params (np.ndarray): Input parameters to be optimized, of dimension 30\n",
        "        - hamiltonian (np.ndarray): An array of real parameters encoding the Hamiltonian\n",
        "        whose expectation value you should minimize.\n",
        "    Returns:\n",
        "        float: the value of the optimized QNode\n",
        "    \"\"\"\n",
        "\n",
        "    hamiltonian = np.array(hamiltonian, requires_grad = False)\n",
        "\n",
        "    hamiltonian = np.array(hamiltonian,float).reshape((2 ** WIRES), (2 ** WIRES))\n",
        "\n",
        "    ### WRITE YOUR CODE BELOW THIS LINE\n",
        "\n",
        "    ### Solution Template\n",
        "\n",
        "    params = np.random.uniform(0, 2*np.pi, size=(NUM_PARAMETERS))\n",
        "\n",
        "    dev = qml.device(\"default.qubit\", wires = WIRES)\n",
        "\n",
        "    circuit = qml.QNode(variational_circuit, dev)\n",
        "\n",
        "    # Write your code to minimize the circuit\n",
        "\n",
        "    def cost(parameters):\n",
        "        return circuit(parameters, hamiltonian)\n",
        "\n",
        "    optimizer = qml.AdamOptimizer(stepsize=0.1)\n",
        "\n",
        "\n",
        "    for i in range(200):\n",
        "        params = optimizer.step(cost, params)\n",
        "\n",
        "    min_expectation = circuit(params, hamiltonian)\n",
        "\n",
        "    return min_expectation.item()"
      ],
      "metadata": {
        "id": "GEAOmTlN2a36"
      },
      "execution_count": null,
      "outputs": []
    },
    {
      "cell_type": "code",
      "source": [
        "optimize_circuit([0.863327072347624,0.0167108057202516,0.07991447085492759,0.0854049026262154, 0.0167108057202516,0.8237963773906136,-0.07695947154193797,0.03131548733285282, 0.07991447085492759,-0.07695947154193795,0.8355417021014687,-0.11345916130631205, 0.08540490262621539,0.03131548733285283,-0.11345916130631205,0.758156886827099])"
      ],
      "metadata": {
        "colab": {
          "base_uri": "https://localhost:8080/"
        },
        "id": "Tj5-Y2w32hR6",
        "outputId": "924aaca7-fdf4-4f77-e59f-6a605384faef"
      },
      "execution_count": null,
      "outputs": [
        {
          "output_type": "execute_result",
          "data": {
            "text/plain": [
              "0.6174534088751968"
            ]
          },
          "metadata": {},
          "execution_count": 6
        }
      ]
    },
    {
      "cell_type": "code",
      "source": [
        "optimize_circuit([0.32158897156285354,-0.20689268438270836,0.12366748295758379,-0.11737425017261123,-0.20689268438270836,0.7747346055276305,-0.05159966365446514,0.08215539696259792,0.12366748295758379,-0.05159966365446514,0.5769050487087416,0.3853362904758938,-0.11737425017261123,0.08215539696259792,0.3853362904758938,0.3986256655167206])"
      ],
      "metadata": {
        "colab": {
          "base_uri": "https://localhost:8080/"
        },
        "id": "UdrbwY3x2i2G",
        "outputId": "dbab7792-8690-4daf-9ca0-a96919ded370"
      },
      "execution_count": null,
      "outputs": [
        {
          "output_type": "execute_result",
          "data": {
            "text/plain": [
              "0.002464881325469395"
            ]
          },
          "metadata": {},
          "execution_count": 7
        }
      ]
    },
    {
      "cell_type": "code",
      "source": [
        "!pip install pennylane"
      ],
      "metadata": {
        "colab": {
          "base_uri": "https://localhost:8080/"
        },
        "collapsed": true,
        "id": "4TaVFsy02qVl",
        "outputId": "4c06d49b-dc5d-4a5b-e1fe-ae13e2e47f5b"
      },
      "execution_count": null,
      "outputs": [
        {
          "output_type": "stream",
          "name": "stdout",
          "text": [
            "Collecting pennylane\n",
            "  Downloading PennyLane-0.33.0-py3-none-any.whl (1.5 MB)\n",
            "\u001b[2K     \u001b[90m━━━━━━━━━━━━━━━━━━━━━━━━━━━━━━━━━━━━━━━━\u001b[0m \u001b[32m1.5/1.5 MB\u001b[0m \u001b[31m10.5 MB/s\u001b[0m eta \u001b[36m0:00:00\u001b[0m\n",
            "\u001b[?25hRequirement already satisfied: numpy in /usr/local/lib/python3.10/dist-packages (from pennylane) (1.23.5)\n",
            "Requirement already satisfied: scipy in /usr/local/lib/python3.10/dist-packages (from pennylane) (1.11.3)\n",
            "Requirement already satisfied: networkx in /usr/local/lib/python3.10/dist-packages (from pennylane) (3.2)\n",
            "Collecting rustworkx (from pennylane)\n",
            "  Downloading rustworkx-0.13.2-cp310-cp310-manylinux_2_17_x86_64.manylinux2014_x86_64.whl (2.0 MB)\n",
            "\u001b[2K     \u001b[90m━━━━━━━━━━━━━━━━━━━━━━━━━━━━━━━━━━━━━━━━\u001b[0m \u001b[32m2.0/2.0 MB\u001b[0m \u001b[31m20.7 MB/s\u001b[0m eta \u001b[36m0:00:00\u001b[0m\n",
            "\u001b[?25hRequirement already satisfied: autograd in /usr/local/lib/python3.10/dist-packages (from pennylane) (1.6.2)\n",
            "Requirement already satisfied: toml in /usr/local/lib/python3.10/dist-packages (from pennylane) (0.10.2)\n",
            "Requirement already satisfied: appdirs in /usr/local/lib/python3.10/dist-packages (from pennylane) (1.4.4)\n",
            "Collecting semantic-version>=2.7 (from pennylane)\n",
            "  Downloading semantic_version-2.10.0-py2.py3-none-any.whl (15 kB)\n",
            "Collecting autoray>=0.6.1 (from pennylane)\n",
            "  Downloading autoray-0.6.7-py3-none-any.whl (49 kB)\n",
            "\u001b[2K     \u001b[90m━━━━━━━━━━━━━━━━━━━━━━━━━━━━━━━━━━━━━━━━\u001b[0m \u001b[32m49.9/49.9 kB\u001b[0m \u001b[31m6.2 MB/s\u001b[0m eta \u001b[36m0:00:00\u001b[0m\n",
            "\u001b[?25hRequirement already satisfied: cachetools in /usr/local/lib/python3.10/dist-packages (from pennylane) (5.3.2)\n",
            "Collecting pennylane-lightning>=0.33 (from pennylane)\n",
            "  Downloading PennyLane_Lightning-0.33.1-cp310-cp310-manylinux_2_17_x86_64.manylinux2014_x86_64.whl (14.0 MB)\n",
            "\u001b[2K     \u001b[90m━━━━━━━━━━━━━━━━━━━━━━━━━━━━━━━━━━━━━━━━\u001b[0m \u001b[32m14.0/14.0 MB\u001b[0m \u001b[31m36.3 MB/s\u001b[0m eta \u001b[36m0:00:00\u001b[0m\n",
            "\u001b[?25hRequirement already satisfied: requests in /usr/local/lib/python3.10/dist-packages (from pennylane) (2.31.0)\n",
            "Requirement already satisfied: typing-extensions in /usr/local/lib/python3.10/dist-packages (from pennylane) (4.5.0)\n",
            "Requirement already satisfied: future>=0.15.2 in /usr/local/lib/python3.10/dist-packages (from autograd->pennylane) (0.18.3)\n",
            "Requirement already satisfied: charset-normalizer<4,>=2 in /usr/local/lib/python3.10/dist-packages (from requests->pennylane) (3.3.1)\n",
            "Requirement already satisfied: idna<4,>=2.5 in /usr/local/lib/python3.10/dist-packages (from requests->pennylane) (3.4)\n",
            "Requirement already satisfied: urllib3<3,>=1.21.1 in /usr/local/lib/python3.10/dist-packages (from requests->pennylane) (2.0.7)\n",
            "Requirement already satisfied: certifi>=2017.4.17 in /usr/local/lib/python3.10/dist-packages (from requests->pennylane) (2023.7.22)\n",
            "Installing collected packages: semantic-version, rustworkx, autoray, pennylane-lightning, pennylane\n",
            "Successfully installed autoray-0.6.7 pennylane-0.33.0 pennylane-lightning-0.33.1 rustworkx-0.13.2 semantic-version-2.10.0\n"
          ]
        }
      ]
    }
  ]
}